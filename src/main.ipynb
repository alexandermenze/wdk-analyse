{
 "metadata": {
  "language_info": {
   "codemirror_mode": {
    "name": "ipython",
    "version": 3
   },
   "file_extension": ".py",
   "mimetype": "text/x-python",
   "name": "python",
   "nbconvert_exporter": "python",
   "pygments_lexer": "ipython3",
   "version": "3.9.2"
  },
  "orig_nbformat": 2,
  "kernelspec": {
   "name": "python392jvsc74a57bd063fd5069d213b44bf678585dea6b12cceca9941eaf7f819626cde1f2670de90d",
   "display_name": "Python 3.9.2 64-bit"
  },
  "metadata": {
   "interpreter": {
    "hash": "63fd5069d213b44bf678585dea6b12cceca9941eaf7f819626cde1f2670de90d"
   }
  }
 },
 "nbformat": 4,
 "nbformat_minor": 2,
 "cells": [
  {
   "source": [
    "# Required modules\n",
    "- PyYAML\n",
    "- pyorient"
   ],
   "cell_type": "markdown",
   "metadata": {}
  },
  {
   "cell_type": "code",
   "execution_count": 25,
   "metadata": {},
   "outputs": [],
   "source": [
    "from appconfig import AppConfig, DataFileContainer\n",
    "from stockdatabase import StockDatabase\n",
    "import pandas as pd\n",
    "import os"
   ]
  },
  {
   "cell_type": "code",
   "execution_count": 4,
   "metadata": {},
   "outputs": [],
   "source": [
    "def batch_insert_index_values_from_files(database, index_file_folder_path, file_list):\n",
    "    print(\"-- Inserting index values\")\n",
    "    current_index = 1\n",
    "    for file in file_list:\n",
    "        path = os.path.join(index_file_folder_path, file[\"file_name\"])\n",
    "        df = pd.read_csv(path)\n",
    "        print(\"Inserting '\" + file[\"file_name\"] + \"' (\" + str(current_index) +\n",
    "              \" of \" + str(len(file_list)) + \") (\" + str(df.shape[0]) + \" rows) ...\")\n",
    "        current_index += 1\n",
    "        database.insert_index_values(df, file[\"isin\"], file[\"region\"])\n",
    "    print(\"-- Done!\")"
   ]
  },
  {
   "source": [
    "# Load information from config files"
   ],
   "cell_type": "markdown",
   "metadata": {}
  },
  {
   "cell_type": "code",
   "execution_count": 5,
   "metadata": {},
   "outputs": [],
   "source": [
    "config = AppConfig(\"config/config.yml\")\n",
    "data_file_list = DataFileContainer(\"config/files.yml\")"
   ]
  },
  {
   "source": [
    "# Setup database (connect and create table and primary key fields)"
   ],
   "cell_type": "markdown",
   "metadata": {}
  },
  {
   "cell_type": "code",
   "execution_count": 6,
   "metadata": {},
   "outputs": [],
   "source": [
    "database = StockDatabase(config.database_user, config.database_password, config.database_name,\n",
    "                         config.database_host, config.database_port, config.table_index_values_name)\n",
    "database.connect()\n",
    "database.recreate_tables()"
   ]
  },
  {
   "source": [
    "# Insert all index values from csv files"
   ],
   "cell_type": "markdown",
   "metadata": {}
  },
  {
   "cell_type": "code",
   "execution_count": 7,
   "metadata": {},
   "outputs": [
    {
     "output_type": "stream",
     "name": "stdout",
     "text": [
      "-- Inserting index values\n",
      "Inserting 'Index CAC40 (FCHI) Entwicklung.csv' (1 of 7) (8050 rows) ...\n",
      "Inserting 'Index DAX Entwicklung.csv' (2 of 7) (8611 rows) ...\n",
      "Inserting 'Index Dow Jones (DJI) Entwicklung.csv' (3 of 7) (5346 rows) ...\n",
      "Inserting 'Index Euronext 100 (N100) Entwicklung.csv' (4 of 7) (5484 rows) ...\n",
      "Inserting 'Index NASDAQ100 (NDX) Entwicklung.csv' (5 of 7) (5366 rows) ...\n",
      "Inserting 'Index S&P500 Entwicklung.csv' (6 of 7) (5366 rows) ...\n",
      "Inserting 'Index STOXX50E Entwicklung seit 2007.csv' (7 of 7) (3540 rows) ...\n",
      "-- Done!\n"
     ]
    }
   ],
   "source": [
    "batch_insert_index_values_from_files(database, config.data_file_folder, data_file_list.index_value_files)"
   ]
  },
  {
   "source": [
    "# Test query (check if any values in database)"
   ],
   "cell_type": "markdown",
   "metadata": {}
  },
  {
   "cell_type": "code",
   "execution_count": 28,
   "metadata": {},
   "outputs": [
    {
     "output_type": "stream",
     "name": "stdout",
     "text": [
      "{'date': datetime.date(1987, 12, 30), 'open': 1005.190002, 'high': 1005.190002, 'low': 1005.190002, 'close': 1005.190002, 'adj_close': 1005.190002, 'volume': 0.0, 'isin': 'DE0008469008', 'region': 'EU'}\n"
     ]
    }
   ],
   "source": [
    "print(database.query_index_values(\"DE0008469008\", limit=1)[0].__dict__)"
   ]
  }
 ]
}